{
 "cells": [
  {
   "cell_type": "code",
   "execution_count": 1,
   "metadata": {
    "ExecuteTime": {
     "end_time": "2020-08-18T13:44:39.731895Z",
     "start_time": "2020-08-18T13:44:38.048247Z"
    }
   },
   "outputs": [
    {
     "name": "stdout",
     "output_type": "stream",
     "text": [
      "WARNING:tensorflow:\n",
      "The TensorFlow contrib module will not be included in TensorFlow 2.0.\n",
      "For more information, please see:\n",
      "  * https://github.com/tensorflow/community/blob/master/rfcs/20180907-contrib-sunset.md\n",
      "  * https://github.com/tensorflow/addons\n",
      "  * https://github.com/tensorflow/io (for I/O related ops)\n",
      "If you depend on functionality not listed there, please file an issue.\n",
      "\n"
     ]
    }
   ],
   "source": [
    "import gpt_2_simple as gpt2\n",
    "import os\n",
    "import requests\n",
    "import zipfile\n",
    "import numpy as np\n",
    "import re\n",
    "import matplotlib.pyplot as plt\n",
    "import difflib\n",
    "from IPython.display import Markdown, display\n",
    "def printmd(string, add=\"\"):\n",
    "    display(Markdown(string + \" \" + str(add)))"
   ]
  },
  {
   "cell_type": "code",
   "execution_count": 2,
   "metadata": {
    "ExecuteTime": {
     "end_time": "2020-08-18T13:44:41.755382Z",
     "start_time": "2020-08-18T13:44:41.699019Z"
    }
   },
   "outputs": [
    {
     "name": "stdout",
     "output_type": "stream",
     "text": [
      "Num GPUs Available:  1\n"
     ]
    }
   ],
   "source": [
    "import tensorflow as tf\n",
    "print(\"Num GPUs Available: \", len(tf.config.experimental.list_physical_devices('GPU')))"
   ]
  },
  {
   "cell_type": "code",
   "execution_count": 3,
   "metadata": {
    "ExecuteTime": {
     "end_time": "2020-08-18T13:44:42.212221Z",
     "start_time": "2020-08-18T13:44:42.081797Z"
    }
   },
   "outputs": [
    {
     "data": {
      "text/plain": [
       "'/device:GPU:0'"
      ]
     },
     "execution_count": 3,
     "metadata": {},
     "output_type": "execute_result"
    }
   ],
   "source": [
    "tf.test.gpu_device_name()"
   ]
  },
  {
   "cell_type": "markdown",
   "metadata": {},
   "source": [
    "# Signal"
   ]
  },
  {
   "cell_type": "code",
   "execution_count": 4,
   "metadata": {
    "ExecuteTime": {
     "end_time": "2020-08-18T13:44:42.854859Z",
     "start_time": "2020-08-18T13:44:42.850927Z"
    }
   },
   "outputs": [],
   "source": [
    "# classification task\n",
    "signal = \"ipo\""
   ]
  },
  {
   "cell_type": "markdown",
   "metadata": {},
   "source": [
    "# Processing Data "
   ]
  },
  {
   "cell_type": "code",
   "execution_count": 5,
   "metadata": {
    "ExecuteTime": {
     "end_time": "2020-08-18T13:44:43.478534Z",
     "start_time": "2020-08-18T13:44:43.474421Z"
    }
   },
   "outputs": [],
   "source": [
    "# path to data of classification task\n",
    "path = signal + \"/\""
   ]
  },
  {
   "cell_type": "code",
   "execution_count": 6,
   "metadata": {
    "ExecuteTime": {
     "end_time": "2020-08-18T13:44:44.874070Z",
     "start_time": "2020-08-18T13:44:44.037603Z"
    }
   },
   "outputs": [
    {
     "name": "stdout",
     "output_type": "stream",
     "text": [
      "Size of labeled data: 1655\n",
      "Size of positive data: 561\n",
      "Size of negative data: 1094\n"
     ]
    }
   ],
   "source": [
    "def get_zipped_dataset(name, labels=False, titles=True, exclude=\".json\"):\n",
    "    def get_dataset_class(filename):\n",
    "        splittet_name = filename.split(\".\")\n",
    "        if len(splittet_name) > 1 and splittet_name[1].replace(\"U\", \"\") == str(1):\n",
    "            return 1\n",
    "        else: return 0\n",
    "\n",
    "    dataset, dataset_titles, filenames = [], [], []\n",
    "    dataset_pos, dataset_neg, dataset_pos_titles, dataset_neg_titles = [], [], [], []\n",
    "\n",
    "    with zipfile.ZipFile(path + \"data.zip\") as z:\n",
    "        for filename in z.namelist():\n",
    "            if name in filename and \".txt\" in filename and not exclude in filename:\n",
    "                with z.open(filename) as f:\n",
    "                    # getting whole text\n",
    "                    full_text = f.read().decode('utf-8')\n",
    "                    # getting only titles\n",
    "                    title = re.search('xxtitle (.*) xxbodytext', full_text).group(1)\n",
    "                    \n",
    "                    filenames.append(filename)\n",
    "                    \n",
    "                    if labels:\n",
    "                        if get_dataset_class(filename):\n",
    "                            dataset_pos.append(full_text)\n",
    "                            dataset_pos_titles.append(title)\n",
    "                        else:\n",
    "                            dataset_neg.append(full_text)\n",
    "                            dataset_neg_titles.append(title)\n",
    "                    else:\n",
    "                        dataset.append(full_text)\n",
    "                        dataset_titles.append(title)\n",
    "    if labels:\n",
    "        return dataset_pos, dataset_pos_titles, dataset_neg, dataset_neg_titles\n",
    "    else:\n",
    "        return dataset, dataset_titles, filenames\n",
    "    \n",
    "\n",
    "#unlabeled_data, unlabeled_data_titles, unlabeled_filenames = get_zipped_dataset(\"randomsig_wt/\", exclude=\"small\")\n",
    "\n",
    "#test_data, test_data_titles, test_filenames = get_zipped_dataset(\"test/\")\n",
    "##unlabeled_data.extend(test_data)\n",
    "##unlabeled_data_titles.extend(test_data_titles)\n",
    "\n",
    "positive_data, positive_data_titles, negative_data, negative_data_titles = get_zipped_dataset(\"train\", labels=True)\n",
    "\n",
    "                \n",
    "print(\"Size of labeled data:\", len(positive_data) + len(negative_data))\n",
    "print(\"Size of positive data:\", len(positive_data))\n",
    "print(\"Size of negative data:\", len(negative_data))\n",
    "#print(\"Size of unlabeled data:\", len(unlabeled_data))"
   ]
  },
  {
   "cell_type": "code",
   "execution_count": 7,
   "metadata": {
    "ExecuteTime": {
     "end_time": "2020-08-18T13:44:45.079707Z",
     "start_time": "2020-08-18T13:44:45.075724Z"
    }
   },
   "outputs": [],
   "source": [
    "training_size = 100"
   ]
  },
  {
   "cell_type": "code",
   "execution_count": null,
   "metadata": {
    "ExecuteTime": {
     "end_time": "2020-08-18T13:44:45.463168Z",
     "start_time": "2020-08-18T13:44:45.456930Z"
    }
   },
   "outputs": [],
   "source": [
    "positive_data_titles[0]"
   ]
  },
  {
   "cell_type": "code",
   "execution_count": null,
   "metadata": {
    "ExecuteTime": {
     "end_time": "2020-08-18T13:44:45.927002Z",
     "start_time": "2020-08-18T13:44:45.920305Z"
    }
   },
   "outputs": [],
   "source": [
    "positive_data[0]"
   ]
  },
  {
   "cell_type": "markdown",
   "metadata": {},
   "source": [
    "## Writing the positive Data into one file seperated with special tokens"
   ]
  },
  {
   "cell_type": "code",
   "execution_count": 10,
   "metadata": {
    "ExecuteTime": {
     "end_time": "2020-08-17T05:05:05.520402Z",
     "start_time": "2020-08-17T05:05:05.397148Z"
    }
   },
   "outputs": [],
   "source": [
    "prefix = \"<|startoftext|> \"\n",
    "suffix = \" <|endoftext|>\"\n",
    "\n",
    "file_name = path + \"data/aug_textgen/finetuning.txt\"\n",
    "file = open(file_name, \"w\")\n",
    "for text in positive_data:\n",
    "    file.write(prefix)\n",
    "    file.write(text)\n",
    "    file.write(suffix)\n",
    "    file.write(\"\\n\\n\")\n",
    "file.close()"
   ]
  },
  {
   "cell_type": "markdown",
   "metadata": {},
   "source": [
    "# Loading and fintuning GPT-2"
   ]
  },
  {
   "cell_type": "code",
   "execution_count": 10,
   "metadata": {
    "ExecuteTime": {
     "end_time": "2020-08-18T13:44:48.690800Z",
     "start_time": "2020-08-18T13:44:48.675788Z"
    }
   },
   "outputs": [],
   "source": [
    "model_name = \"355M\"\n",
    "\n",
    "if not os.path.isdir(os.path.join(\"models\", model_name)):\n",
    "    print(f\"Downloading {model_name} model...\")\n",
    "    gpt2.download_gpt2(model_name=model_name)   # model is saved into current directory under /models/335M/\n",
    "    \n",
    "sess = gpt2.start_tf_sess()"
   ]
  },
  {
   "cell_type": "code",
   "execution_count": null,
   "metadata": {
    "ExecuteTime": {
     "end_time": "2020-08-18T13:45:30.673867Z",
     "start_time": "2020-08-18T13:44:50.297056Z"
    },
    "scrolled": true
   },
   "outputs": [],
   "source": [
    "file_name = path + \"data/aug_textgen/finetuning.txt\"\n",
    "gpt2.finetune(sess,\n",
    "              file_name,\n",
    "              model_name=model_name,\n",
    "              run_name='run' + signal.capitalize(),\n",
    "              sample_every=1000,\n",
    "              steps=1)   "
   ]
  },
  {
   "cell_type": "markdown",
   "metadata": {},
   "source": [
    "# Generate and select the new training data"
   ]
  },
  {
   "cell_type": "markdown",
   "metadata": {},
   "source": [
    "## Using GPT-2 to generate 10 new texts for each positive title"
   ]
  },
  {
   "cell_type": "code",
   "execution_count": null,
   "metadata": {
    "ExecuteTime": {
     "end_time": "2020-08-19T00:10:35.997551Z",
     "start_time": "2020-08-18T13:45:30.675257Z"
    },
    "scrolled": true
   },
   "outputs": [],
   "source": [
    "for index, title in enumerate(positive_data_titles):\n",
    "    if index <= 379:\n",
    "        continue\n",
    "    prefix_gen = \"<|startoftext|> xxtitle \" + title + \" xxbodytext\"\n",
    "    gpt2.generate(sess, \n",
    "                model_name=model_name, \n",
    "                prefix=prefix_gen, \n",
    "                truncate=\"<|endoftext|>\", \n",
    "                include_prefix=True, \n",
    "                destination_path=\"generated_samples/\" + signal + \"/temperature_07_\" + str(index) + \".txt\",\n",
    "                temperature=0.7,\n",
    "                nsamples=10)\n",
    "    \n",
    "    print(str(index + 1) + \"/\" + str(len(positive_data_titles)))"
   ]
  },
  {
   "cell_type": "code",
   "execution_count": null,
   "metadata": {
    "ExecuteTime": {
     "end_time": "2020-08-19T06:09:58.258523Z",
     "start_time": "2020-08-19T06:09:46.685366Z"
    }
   },
   "outputs": [],
   "source": [
    "gpt2.reset_session(sess)"
   ]
  },
  {
   "cell_type": "markdown",
   "metadata": {},
   "source": [
    "## Reading the saved data"
   ]
  },
  {
   "cell_type": "code",
   "execution_count": 8,
   "metadata": {
    "ExecuteTime": {
     "end_time": "2020-08-07T07:05:50.394203Z",
     "start_time": "2020-08-07T07:05:50.347756Z"
    }
   },
   "outputs": [],
   "source": [
    "index = 0\n",
    "new_data = []\n",
    "while(os.path.isfile(\"generated_samples/\" + signal + \"/temperature_07_\" + str(index) + \".txt\")):\n",
    "    file_name = \"generated_samples/\" + signal + \"/temperature_07_\" + str(index) + \".txt\"\n",
    "    with open(file_name) as file:\n",
    "        texts = file.read()\n",
    "        temp_data = texts.split(\"\\n====================\\n<|startoftext|> \")\n",
    "        temp_data[0] = temp_data[0].replace(\"<|startoftext|> \", \"\")\n",
    "    new_data.extend(temp_data)\n",
    "    index += 1"
   ]
  },
  {
   "cell_type": "code",
   "execution_count": null,
   "metadata": {
    "ExecuteTime": {
     "end_time": "2020-08-07T07:05:50.718182Z",
     "start_time": "2020-08-07T07:05:50.713187Z"
    }
   },
   "outputs": [],
   "source": [
    "len(new_data)"
   ]
  },
  {
   "cell_type": "markdown",
   "metadata": {},
   "source": [
    "## Filtering the data "
   ]
  },
  {
   "cell_type": "code",
   "execution_count": 10,
   "metadata": {
    "ExecuteTime": {
     "end_time": "2020-08-07T07:06:01.352604Z",
     "start_time": "2020-08-07T07:05:51.561974Z"
    },
    "scrolled": true
   },
   "outputs": [],
   "source": [
    "from sentence_transformers import SentenceTransformer, models\n",
    "model = SentenceTransformer('roberta-large-nli-stsb-mean-tokens')"
   ]
  },
  {
   "cell_type": "code",
   "execution_count": 11,
   "metadata": {
    "ExecuteTime": {
     "end_time": "2020-08-07T07:06:06.070563Z",
     "start_time": "2020-08-07T07:06:01.353669Z"
    }
   },
   "outputs": [],
   "source": [
    "positive_data_embeddings = model.encode(np.array(positive_data))"
   ]
  },
  {
   "cell_type": "code",
   "execution_count": 12,
   "metadata": {
    "ExecuteTime": {
     "end_time": "2020-08-07T07:06:46.902150Z",
     "start_time": "2020-08-07T07:06:06.071732Z"
    }
   },
   "outputs": [],
   "source": [
    "generated_data_embeddings = model.encode(np.array(new_data))"
   ]
  },
  {
   "cell_type": "code",
   "execution_count": null,
   "metadata": {
    "ExecuteTime": {
     "end_time": "2020-08-07T07:06:46.906678Z",
     "start_time": "2020-08-07T07:06:46.903216Z"
    }
   },
   "outputs": [],
   "source": [
    "def get_centroid(embeddings):\n",
    "    embedding_sum = np.sum(embeddings, axis=0)\n",
    "    return np.divide(embedding_sum, len(embeddings[0]))\n",
    "\n",
    "positive_data_centroid = get_centroid(positive_data_embeddings)\n",
    "print(positive_data_centroid)"
   ]
  },
  {
   "cell_type": "code",
   "execution_count": 14,
   "metadata": {
    "ExecuteTime": {
     "end_time": "2020-08-07T07:06:47.089109Z",
     "start_time": "2020-08-07T07:06:46.907596Z"
    },
    "scrolled": false
   },
   "outputs": [
    {
     "data": {
      "text/markdown": [
       "Remember: cosine similarity is 1 if the vectors have the same angle (same similarity) and 0 if the vectors are unsimilar\n",
       " "
      ],
      "text/plain": [
       "<IPython.core.display.Markdown object>"
      ]
     },
     "metadata": {},
     "output_type": "display_data"
    },
    {
     "data": {
      "text/markdown": [
       "**[Labeled Data]** The vector that is **least similar** to the other vectors has a similarity score of 0.2761887"
      ],
      "text/plain": [
       "<IPython.core.display.Markdown object>"
      ]
     },
     "metadata": {},
     "output_type": "display_data"
    },
    {
     "data": {
      "text/markdown": [
       "**[Labeled Data]** The article of it is: xxtitle The Latest: Last Australian prime minister to quit this week xxbodytext The Latest on Australian politics (all times local):\n",
       "\n",
       "11:50 p.m.\n",
       "\n",
       "Australia's former prime minister says he will resign from Parliament this week in a move that could cost the unpopular conservative government its single-seat majority.\n",
       "\n",
       "Malcolm Turnbull told supporters that he will resign from Parliament on Friday, a week after he was forced from office by lawmakers in his conservative Liberal Party because he had lost their support.\n",
       "\n",
       "That could set the stage for an Oct. 6 by-election. Prime Minister Scott Morrison could also call general elections, although he has said he plans to hold polls close to when an election is due in May.\n",
       "\n",
       "Morrison visited the drought-stricken Outback on Monday in a demonstration that he has turned his focus away from his government's internal drama to the problems of the nation.\n",
       "\n",
       "3:30 p.m.\n",
       "\n",
       "Australia's new prime minister has visited the drought-stricken Outback as he turns his focus away from his government's internal drama.\n",
       "\n",
       "Prime Minister Scott Morrison selected drought assistance as a top priority along with national security and economic growth when he was chosen by lawmakers in his conservative Liberal Party on Friday.\n",
       "\n",
       "His predecessor, Malcolm Turnbull, became the fourth prime minister dumped by his or her own party since 2010 in response to poor opinion polling.\n",
       "\n",
       "Morrison flew Monday to rural western Queensland state, where crops are failing and ranchers are struggling to feed sheep and cattle after six years of drought. He has not yet announced any new initiatives to help farmers."
      ],
      "text/plain": [
       "<IPython.core.display.Markdown object>"
      ]
     },
     "metadata": {},
     "output_type": "display_data"
    },
    {
     "data": {
      "text/markdown": [
       "**[Labeled Data]** Boxplot: Distances of the positive set to the positive centroid "
      ],
      "text/plain": [
       "<IPython.core.display.Markdown object>"
      ]
     },
     "metadata": {},
     "output_type": "display_data"
    },
    {
     "data": {
      "image/png": "[encoded data removed]",
      "text/plain": [
       "<Figure size 432x288 with 1 Axes>"
      ]
     },
     "metadata": {
      "needs_background": "light"
     },
     "output_type": "display_data"
    },
    {
     "data": {
      "text/markdown": [
       "<br>**[Generated Data]** The vector that is **most similar** to the other vectors has a similarity score of 0.8280262"
      ],
      "text/plain": [
       "<IPython.core.display.Markdown object>"
      ]
     },
     "metadata": {},
     "output_type": "display_data"
    },
    {
     "data": {
      "text/markdown": [
       "**[Generated Data]** The article of it is: xxtitle Salvadoran farmers lament brutal drought, hope for recovery xxbodytext Encouraged by a good harvest last year, Salvadoran farmers turned their hopes to the rain this year. But with heavy rains in some areas since November, farmers have not been able to harvest anything from the more than 3 million hectares they had.\n",
       "\n",
       "“It was a difficult year. Many farmers had lost crops and were only able to harvest about 2.5 million tonnes from our farms,” said Salvadoran economist Ildefonso Ortiz.\n",
       "\n",
       "Of the more than 3 million hectares of crops that the country had in 2018, about 2.5 million hectares had been harvested by the end of March, according to the National Assembly.\n",
       "\n",
       "That figure includes 1.5 million hectares of corn that had been harvested in Ometepe, a poor region in which to grow crops because of extremely hot weather. Ometepe is the country’s main corn producer.\n",
       "\n",
       "As the drought has continued, so has the infestation of the Asian brown marmorated stink bug, a threat to soy and other crops that will greatly affect the country’s food production next year.\n",
       "\n",
       "The government has intensified its control over the pest, issuing alerts when an adult is spotted in a crop field. It also uses drones to kill the insects.\n",
       "\n",
       "The government estimated in September that it had destroyed more than 20,000 hectares of hardwoods in the country’s soybean and corn sectors.\n",
       "\n",
       "Although the pest was initially on the decline in South America, authorities have said they fear it could return to normal levels due to climate change.\n",
       "\n",
       "In the worst-case scenario, if the climate changes again, Ortiz said, “we could lose the ability to harvest, plus the inability to plant, plus the inability to harvest later because of the lack of moisture in the fields.”\n",
       "\n",
       "Brown marmorated stink bugs are native to tropical and subtropical parts of the Americas, and are distributed widely in both hemispheres. They are sexually dimorphic — females are bigger and more numerous than males — and breed in clusters of two to six generations. A female can lay up to eight eggs in one generation. A brown marmorated stink bug is lithe and smaller than a typical brown marmorated stink bug, though it may weigh as much as 30 kilograms. It may also sting more than a typical black marmorated stink bug.\n",
       "\n",
       "The pest has been reported in more than 80 countries in South America, the most recent of which is in January. Government agencies and nongovernmental organizations worldwide are urged to monitor the pest for the first time. "
      ],
      "text/plain": [
       "<IPython.core.display.Markdown object>"
      ]
     },
     "metadata": {},
     "output_type": "display_data"
    },
    {
     "data": {
      "text/markdown": [
       "**[Generated Data]** The vector that is **least similar** to the other vectors has a similarity score of 0.20007469"
      ],
      "text/plain": [
       "<IPython.core.display.Markdown object>"
      ]
     },
     "metadata": {},
     "output_type": "display_data"
    },
    {
     "data": {
      "text/markdown": [
       "**[Generated Data]** The article of it is: xxtitle UW summarizes Washington climate impact on water xxbodytext The following is adapted from a report prepared by the Water Climate Center’s Climate Impacts Group at the University of Wisconsin–Madison. "
      ],
      "text/plain": [
       "<IPython.core.display.Markdown object>"
      ]
     },
     "metadata": {},
     "output_type": "display_data"
    },
    {
     "data": {
      "text/markdown": [
       "**[Generated Data]** Boxplot: Distances of the unlabeled set to the positive centroid "
      ],
      "text/plain": [
       "<IPython.core.display.Markdown object>"
      ]
     },
     "metadata": {},
     "output_type": "display_data"
    },
    {
     "data": {
      "image/png": "[encoded data removed]",
      "text/plain": [
       "<Figure size 432x288 with 1 Axes>"
      ]
     },
     "metadata": {
      "needs_background": "light"
     },
     "output_type": "display_data"
    }
   ],
   "source": [
    "def get_distances(embeddings, centroid, cosine=True):\n",
    "    def cosine_similarity(a,b):\n",
    "        return np.dot(a,b)/(np.linalg.norm(a) * np.linalg.norm(b))\n",
    "    \n",
    "    if cosine:\n",
    "        return [cosine_similarity(embedding, centroid) for embedding in embeddings]\n",
    "    else:\n",
    "        return - [np.linalg.norm(centroid-embedding, 2) for embedding in embeddings]\n",
    "    \n",
    "generated_data_distances = get_distances(generated_data_embeddings, positive_data_centroid)\n",
    "positive_data_distances = get_distances(positive_data_embeddings, positive_data_centroid)\n",
    "\n",
    "printmd(\"Remember: cosine similarity is 1 if the vectors have the same angle (same similarity) and 0 if the vectors are unsimilar\\n\")\n",
    "\n",
    "printmd(\"**[Labeled Data]** The vector that is **least similar** to the other vectors has a similarity score of\", np.min(positive_data_distances))\n",
    "printmd(\"**[Labeled Data]** The article of it is:\", positive_data[np.argmin(positive_data_distances)])\n",
    "printmd(\"**[Labeled Data]** Boxplot: Distances of the positive set to the positive centroid\")\n",
    "fig, ax = plt.subplots()\n",
    "ax.boxplot(positive_data_distances, 0, 'rs', 0)\n",
    "plt.show()\n",
    "\n",
    "printmd(\"<br>**[Generated Data]** The vector that is **most similar** to the other vectors has a similarity score of\", np.max(generated_data_distances))\n",
    "printmd(\"**[Generated Data]** The article of it is:\", new_data[np.argmax(generated_data_distances)])\n",
    "\n",
    "printmd(\"**[Generated Data]** The vector that is **least similar** to the other vectors has a similarity score of\", np.min(generated_data_distances))\n",
    "printmd(\"**[Generated Data]** The article of it is:\", new_data[np.argmin(generated_data_distances)])\n",
    "\n",
    "printmd(\"**[Generated Data]** Boxplot: Distances of the unlabeled set to the positive centroid\")\n",
    "fig, ax = plt.subplots()\n",
    "ax.boxplot(generated_data_distances, 0, 'gD', 0)\n",
    "plt.show()"
   ]
  },
  {
   "cell_type": "code",
   "execution_count": 15,
   "metadata": {
    "ExecuteTime": {
     "end_time": "2020-08-07T07:06:47.100476Z",
     "start_time": "2020-08-07T07:06:47.090083Z"
    },
    "scrolled": true
   },
   "outputs": [
    {
     "data": {
      "text/plain": [
       "722"
      ]
     },
     "execution_count": 15,
     "metadata": {},
     "output_type": "execute_result"
    }
   ],
   "source": [
    "def get_k_nearest_indices(distances, k, inverse=False):\n",
    "    distances = np.array(distances)\n",
    "    if not inverse:\n",
    "        return np.argsort(distances)[::-1][:k]\n",
    "    else:\n",
    "        return np.argsort(distances)[:k]\n",
    "\n",
    "def get_nearest_indices_threshold(distances, threshold, inverse=False):\n",
    "    if not inverse:\n",
    "        distances = np.array(distances)\n",
    "        threshold_count = len(list(filter(lambda x: x > threshold, distances)))\n",
    "        return np.argsort(distances)[::-1][:threshold_count]\n",
    "    else:\n",
    "        distances = np.array(distances)\n",
    "        threshold_count = len(list(filter(lambda x: x < threshold, distances)))\n",
    "        return np.argsort(distances)[:threshold_count]\n",
    "    \n",
    "    \n",
    "#index_of_nearest_dataset = get_k_nearest_indices(unlabeled_distances, 1000)\n",
    "lower_quantile = np.quantile(positive_data_distances, 0.15) \n",
    "index_of_nearest_dataset = get_nearest_indices_threshold(generated_data_distances, lower_quantile)\n",
    "len(index_of_nearest_dataset)"
   ]
  },
  {
   "cell_type": "code",
   "execution_count": 17,
   "metadata": {
    "ExecuteTime": {
     "end_time": "2020-08-07T07:07:21.599444Z",
     "start_time": "2020-08-07T07:07:21.594049Z"
    }
   },
   "outputs": [],
   "source": [
    "generated_positive_dataset = [new_data[index] for index in index_of_nearest_dataset]"
   ]
  },
  {
   "cell_type": "markdown",
   "metadata": {},
   "source": [
    "It may be sensible to look into the least fitting generated example, to adjust the threshold parameter above according to it."
   ]
  },
  {
   "cell_type": "code",
   "execution_count": null,
   "metadata": {
    "ExecuteTime": {
     "end_time": "2020-08-07T07:07:22.915553Z",
     "start_time": "2020-08-07T07:07:22.908419Z"
    }
   },
   "outputs": [],
   "source": [
    "printmd(generated_positive_dataset[-3])"
   ]
  },
  {
   "cell_type": "markdown",
   "metadata": {},
   "source": [
    "## Saving the new data set"
   ]
  },
  {
   "cell_type": "code",
   "execution_count": 19,
   "metadata": {
    "ExecuteTime": {
     "end_time": "2020-08-07T07:07:43.024316Z",
     "start_time": "2020-08-07T07:07:32.426983Z"
    }
   },
   "outputs": [],
   "source": [
    "for index, text in enumerate(generated_positive_dataset):\n",
    "    file = open(path + \"data/aug_textgen_data_07_strict/\" + str(index) + \".\" + \"1.txt\", \"w\")\n",
    "    file.write(text)\n",
    "    file.close()\n"
   ]
  },
  {
   "cell_type": "code",
   "execution_count": null,
   "metadata": {},
   "outputs": [],
   "source": []
  }
 ],
 "metadata": {
  "kernelspec": {
   "display_name": "Python 3",
   "language": "python",
   "name": "python3"
  },
  "language_info": {
   "codemirror_mode": {
    "name": "ipython",
    "version": 3
   },
   "file_extension": ".py",
   "mimetype": "text/x-python",
   "name": "python",
   "nbconvert_exporter": "python",
   "pygments_lexer": "ipython3",
   "version": "3.8.6"
  },
  "varInspector": {
   "cols": {
    "lenName": 16,
    "lenType": 16,
    "lenVar": 40
   },
   "kernels_config": {
    "python": {
     "delete_cmd_postfix": "",
     "delete_cmd_prefix": "del ",
     "library": "var_list.py",
     "varRefreshCmd": "print(var_dic_list())"
    },
    "r": {
     "delete_cmd_postfix": ") ",
     "delete_cmd_prefix": "rm(",
     "library": "var_list.r",
     "varRefreshCmd": "cat(var_dic_list()) "
    }
   },
   "oldHeight": 122.18751800000001,
   "position": {
    "height": "143.669px",
    "left": "1052.25px",
    "right": "20px",
    "top": "120px",
    "width": "349.988px"
   },
   "types_to_exclude": [
    "module",
    "function",
    "builtin_function_or_method",
    "instance",
    "_Feature"
   ],
   "varInspector_section_display": "block",
   "window_display": false
  }
 },
 "nbformat": 4,
 "nbformat_minor": 4
}
