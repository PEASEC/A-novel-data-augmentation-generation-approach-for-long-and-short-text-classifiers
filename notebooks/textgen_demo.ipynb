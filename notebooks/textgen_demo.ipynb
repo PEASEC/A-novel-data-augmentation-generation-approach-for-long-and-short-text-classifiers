{
 "cells": [
  {
   "cell_type": "code",
   "execution_count": 12,
   "metadata": {
    "ExecuteTime": {
     "end_time": "2020-09-11T15:49:02.152992Z",
     "start_time": "2020-09-11T15:49:01.813520Z"
    }
   },
   "outputs": [],
   "source": [
    "from gpt_da import apply_gpt\n",
    "from bert_filtering import apply_filtering"
   ]
  },
  {
   "cell_type": "code",
   "execution_count": 4,
   "metadata": {
    "ExecuteTime": {
     "end_time": "2020-09-11T15:22:39.714106Z",
     "start_time": "2020-09-11T15:22:39.710130Z"
    }
   },
   "outputs": [],
   "source": [
    "# Path to a dataset / signal: classification task\n",
    "\n",
    "signal = \"m_a\"\n",
    "path = signal + \"/\""
   ]
  },
  {
   "cell_type": "markdown",
   "metadata": {},
   "source": [
    "## GPT data generation "
   ]
  },
  {
   "cell_type": "code",
   "execution_count": null,
   "metadata": {},
   "outputs": [],
   "source": [
    "generated_data, positive_train_data, path_of_generated_data = apply_gpt(\n",
    "    path, model_name=\"124M\", steps=10, overwrite=True, temperature=0.7, nsamples=10, \n",
    "    title_token=\"xxtitle\", body_token=\"xxbodytext\", verbose=True)"
   ]
  },
  {
   "cell_type": "code",
   "execution_count": 6,
   "metadata": {
    "ExecuteTime": {
     "end_time": "2020-09-11T15:42:38.861233Z",
     "start_time": "2020-09-11T15:42:38.796693Z"
    }
   },
   "outputs": [],
   "source": [
    "from gpt_da import reading_generated_data\n",
    "generated_data = reading_generated_data(path + \"/data/generated_data/\")"
   ]
  },
  {
   "cell_type": "code",
   "execution_count": 9,
   "metadata": {
    "ExecuteTime": {
     "end_time": "2020-09-11T15:48:44.412448Z",
     "start_time": "2020-09-11T15:48:43.021667Z"
    }
   },
   "outputs": [],
   "source": [
    "from gpt_da import get_zipped_dataset\n",
    "positive_train_data, _, positive_train_titles, _ = get_zipped_dataset(\n",
    "        path + \"data.zip\", \"train\", exclude=\".json\")"
   ]
  },
  {
   "cell_type": "markdown",
   "metadata": {},
   "source": [
    "## Sentence-BERT Filtering"
   ]
  },
  {
   "cell_type": "code",
   "execution_count": 13,
   "metadata": {
    "ExecuteTime": {
     "end_time": "2020-09-11T15:49:20.563311Z",
     "start_time": "2020-09-11T15:49:06.879952Z"
    }
   },
   "outputs": [],
   "source": [
    "remaining_generated_data = apply_filtering(positive_train_data, generated_data, close_instances=False,\n",
    "                    sentence_transformer=\"roberta-large-nli-stsb-mean-tokens\", quantile_threshold=0.15, verbose=False)"
   ]
  },
  {
   "cell_type": "code",
   "execution_count": 14,
   "metadata": {
    "ExecuteTime": {
     "end_time": "2020-09-11T15:49:20.570427Z",
     "start_time": "2020-09-11T15:49:20.564757Z"
    }
   },
   "outputs": [
    {
     "data": {
      "text/plain": [
       "0"
      ]
     },
     "execution_count": 14,
     "metadata": {},
     "output_type": "execute_result"
    }
   ],
   "source": [
    "len(generated_data)"
   ]
  },
  {
   "cell_type": "code",
   "execution_count": 15,
   "metadata": {
    "ExecuteTime": {
     "end_time": "2020-09-11T15:49:24.996667Z",
     "start_time": "2020-09-11T15:49:24.990757Z"
    }
   },
   "outputs": [
    {
     "data": {
      "text/plain": [
       "0"
      ]
     },
     "execution_count": 15,
     "metadata": {},
     "output_type": "execute_result"
    }
   ],
   "source": [
    "len(remaining_generated_data)"
   ]
  },
  {
   "cell_type": "code",
   "execution_count": null,
   "metadata": {},
   "outputs": [],
   "source": [
    "for index, text in enumerate(remaining_generated_data):\n",
    "    file = open(path + \"data/aug_textgen/\" + str(index) + \".\" + \"1.txt\", \"w\")\n",
    "    file.write(text)\n",
    "    file.close()"
   ]
  }
 ],
 "metadata": {
  "kernelspec": {
   "display_name": "Python [conda env:textgeneration]",
   "language": "python",
   "name": "conda-env-textgeneration-py"
  },
  "language_info": {
   "codemirror_mode": {
    "name": "ipython",
    "version": 3
   },
   "file_extension": ".py",
   "mimetype": "text/x-python",
   "name": "python",
   "nbconvert_exporter": "python",
   "pygments_lexer": "ipython3",
   "version": "3.6.10"
  }
 },
 "nbformat": 4,
 "nbformat_minor": 4
}
