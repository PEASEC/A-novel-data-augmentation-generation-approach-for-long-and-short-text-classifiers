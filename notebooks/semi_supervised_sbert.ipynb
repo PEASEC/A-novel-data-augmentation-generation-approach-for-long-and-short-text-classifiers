{
 "cells": [
  {
   "cell_type": "code",
   "execution_count": 45,
   "metadata": {
    "ExecuteTime": {
     "end_time": "2020-08-12T12:18:21.843468Z",
     "start_time": "2020-08-12T12:18:21.837201Z"
    }
   },
   "outputs": [],
   "source": [
    "import zipfile\n",
    "import numpy as np\n",
    "import re\n",
    "import matplotlib.pyplot as plt\n",
    "import difflib\n",
    "from IPython.display import Markdown, display\n",
    "def printmd(string, add=\"\"):\n",
    "    display(Markdown(string + \" \" + str(add)))"
   ]
  },
  {
   "cell_type": "code",
   "execution_count": 46,
   "metadata": {
    "ExecuteTime": {
     "end_time": "2020-08-12T12:18:22.059984Z",
     "start_time": "2020-08-12T12:18:22.056229Z"
    }
   },
   "outputs": [],
   "source": [
    "# classification task\n",
    "signal = \"m_a\""
   ]
  },
  {
   "cell_type": "code",
   "execution_count": 47,
   "metadata": {
    "ExecuteTime": {
     "end_time": "2020-08-12T12:18:22.269523Z",
     "start_time": "2020-08-12T12:18:22.265589Z"
    }
   },
   "outputs": [],
   "source": [
    "# path to labeled dataset\n",
    "path = signal + \"/\""
   ]
  },
  {
   "cell_type": "code",
   "execution_count": 48,
   "metadata": {
    "ExecuteTime": {
     "end_time": "2020-08-12T12:18:22.460292Z",
     "start_time": "2020-08-12T12:18:22.456583Z"
    }
   },
   "outputs": [],
   "source": [
    "# path to unlabeled data\n",
    "path_unlabeled = \"/\""
   ]
  },
  {
   "cell_type": "markdown",
   "metadata": {},
   "source": [
    "The idea is to build embeddings of the positive and unlabeled data, so that the similarity between both sets can be compared to infer labels for the unlabeled data. If a unlabeled post is near to the centroid of the positive set, one could assume that it may be positive. If it is far away, it is most likely not positive."
   ]
  },
  {
   "cell_type": "markdown",
   "metadata": {},
   "source": [
    "# Getting the data"
   ]
  },
  {
   "cell_type": "code",
   "execution_count": 49,
   "metadata": {
    "ExecuteTime": {
     "end_time": "2020-08-12T12:18:29.253339Z",
     "start_time": "2020-08-12T12:18:23.318830Z"
    }
   },
   "outputs": [
    {
     "name": "stdout",
     "output_type": "stream",
     "text": [
      "Size of labeled data: 1558\n",
      "Size of positive data: 351\n",
      "Size of negative data: 1207\n"
     ]
    }
   ],
   "source": [
    "def get_zipped_dataset(name, labels=False, titles=True, exclude=\".json\"):\n",
    "    def get_dataset_class(filename):\n",
    "        splittet_name = filename.split(\".\")\n",
    "        if len(splittet_name) > 1 and splittet_name[1].replace(\"U\", \"\") == str(1):\n",
    "            return 1\n",
    "        else: return 0\n",
    "\n",
    "    dataset, dataset_titles, filenames = [], [], []\n",
    "    dataset_pos, dataset_neg, dataset_pos_titles, dataset_neg_titles = [], [], [], []\n",
    "\n",
    "    with zipfile.ZipFile(path + \"data.zip\") as z:\n",
    "        for filename in z.namelist():\n",
    "            if name in filename and \".txt\" in filename and not exclude in filename:\n",
    "                with z.open(filename) as f:\n",
    "                    # getting whole text\n",
    "                    full_text = f.read().decode('utf-8')\n",
    "                    # getting only titles\n",
    "                    title = re.search('xxtitle (.*) xxbodytext', full_text).group(1)\n",
    "                    \n",
    "                    filenames.append(filename)\n",
    "                    \n",
    "                    if labels:\n",
    "                        if get_dataset_class(filename):\n",
    "                            dataset_pos.append(full_text)\n",
    "                            dataset_pos_titles.append(title)\n",
    "                        else:\n",
    "                            dataset_neg.append(full_text)\n",
    "                            dataset_neg_titles.append(title)\n",
    "                    else:\n",
    "                        dataset.append(full_text)\n",
    "                        dataset_titles.append(title)\n",
    "    if labels:\n",
    "        return dataset_pos, dataset_pos_titles, dataset_neg, dataset_neg_titles\n",
    "    else:\n",
    "        return dataset, dataset_titles, filenames\n",
    "    \n",
    "\n",
    "unlabeled_data, unlabeled_data_titles, unlabeled_filenames = get_zipped_dataset(\"randomsig_wt/\", exclude=\"small\")\n",
    "\n",
    "#test_data, test_data_titles, test_filenames = get_zipped_dataset(\"test/\")\n",
    "#unlabeled_data.extend(test_data)\n",
    "#unlabeled_data_titles.extend(test_data_titles)\n",
    "\n",
    "positive_data, positive_data_titles, negative_data, negative_data_titles = get_zipped_dataset(\"train\", labels=True)\n",
    "\n",
    "                \n",
    "print(\"Size of labeled data:\", len(positive_data) + len(negative_data))\n",
    "print(\"Size of positive data:\", len(positive_data))\n",
    "print(\"Size of negative data:\", len(negative_data))\n",
    "#print(\"Size of unlabeled data:\", len(unlabeled_data))"
   ]
  },
  {
   "cell_type": "code",
   "execution_count": 7,
   "metadata": {
    "ExecuteTime": {
     "end_time": "2020-08-12T09:46:58.316171Z",
     "start_time": "2020-08-12T09:46:38.525320Z"
    },
    "deletable": false,
    "editable": false,
    "run_control": {
     "frozen": true
    }
   },
   "outputs": [
    {
     "name": "stdout",
     "output_type": "stream",
     "text": [
      "Size of unlabeled data: 378038\n"
     ]
    }
   ],
   "source": [
    "def get_zipped_dataset(name, labels=False, titles=True, exclude=\".json\"):\n",
    "    def get_dataset_class(filename):\n",
    "        splittet_name = filename.split(\".\")\n",
    "        if len(splittet_name) > 1 and splittet_name[1].replace(\"U\", \"\") == str(1):\n",
    "            return 1\n",
    "        else: return 0\n",
    "\n",
    "    dataset, dataset_titles, filenames = [], [], []\n",
    "    dataset_pos, dataset_neg, dataset_pos_titles, dataset_neg_titles = [], [], [], []\n",
    "\n",
    "    with zipfile.ZipFile(path_unlabeled + \"corona_1.zip\") as z:\n",
    "        for filename in z.namelist():\n",
    "            if name in filename and \".txt\" in filename and not exclude in filename:\n",
    "                with z.open(filename) as f:\n",
    "                    # getting whole text\n",
    "                    full_text = f.read().decode('utf-8')\n",
    "                    # getting only titles\n",
    "                    title = re.search('xxtitle (.*) xxbodytext', full_text).group(1)\n",
    "                    \n",
    "                    filenames.append(filename)\n",
    "                    \n",
    "                    if labels:\n",
    "                        if get_dataset_class(filename):\n",
    "                            dataset_pos.append(full_text)\n",
    "                            dataset_pos_titles.append(title)\n",
    "                        else:\n",
    "                            dataset_neg.append(full_text)\n",
    "                            dataset_neg_titles.append(title)\n",
    "                    else:\n",
    "                        dataset.append(full_text)\n",
    "                        dataset_titles.append(title)\n",
    "    if labels:\n",
    "        return dataset_pos, dataset_pos_titles, dataset_neg, dataset_neg_titles\n",
    "    else:\n",
    "        return dataset, dataset_titles, filenames\n",
    "    \n",
    "\n",
    "\n",
    "unlabeled_data, unlabeled_data_titles, unlabeled_filenames = get_zipped_dataset(\"corona_1/\")\n",
    "\n",
    "                \n",
    "#print(\"Size of labeled data:\", len(positive_data) + len(negative_data))\n",
    "#print(\"Size of positive data:\", len(positive_data))\n",
    "#print(\"Size of negative data:\", len(negative_data))\n",
    "print(\"Size of unlabeled data:\", len(unlabeled_data))"
   ]
  },
  {
   "cell_type": "code",
   "execution_count": null,
   "metadata": {
    "ExecuteTime": {
     "end_time": "2020-08-12T12:18:29.258360Z",
     "start_time": "2020-08-12T12:18:29.254608Z"
    }
   },
   "outputs": [],
   "source": [
    "unlabeled_data_titles[0]"
   ]
  },
  {
   "cell_type": "code",
   "execution_count": null,
   "metadata": {
    "ExecuteTime": {
     "end_time": "2020-08-12T12:18:29.277303Z",
     "start_time": "2020-08-12T12:18:29.259556Z"
    }
   },
   "outputs": [],
   "source": [
    "unlabeled_data[0]"
   ]
  },
  {
   "cell_type": "markdown",
   "metadata": {},
   "source": [
    "# Embedding Creation"
   ]
  },
  {
   "cell_type": "code",
   "execution_count": 52,
   "metadata": {
    "ExecuteTime": {
     "end_time": "2020-08-12T12:18:33.584050Z",
     "start_time": "2020-08-12T12:18:33.580119Z"
    }
   },
   "outputs": [],
   "source": [
    "from sentence_transformers import SentenceTransformer, models"
   ]
  },
  {
   "cell_type": "code",
   "execution_count": 53,
   "metadata": {
    "ExecuteTime": {
     "end_time": "2020-08-12T12:18:39.469336Z",
     "start_time": "2020-08-12T12:18:33.850977Z"
    }
   },
   "outputs": [],
   "source": [
    "model = SentenceTransformer('roberta-large-nli-stsb-mean-tokens')"
   ]
  },
  {
   "cell_type": "code",
   "execution_count": 54,
   "metadata": {
    "ExecuteTime": {
     "end_time": "2020-08-12T12:18:43.798247Z",
     "start_time": "2020-08-12T12:18:39.475181Z"
    }
   },
   "outputs": [],
   "source": [
    "positive_embeddings = model.encode(np.array(positive_data))"
   ]
  },
  {
   "cell_type": "code",
   "execution_count": 55,
   "metadata": {
    "ExecuteTime": {
     "end_time": "2020-08-12T12:34:41.406952Z",
     "start_time": "2020-08-12T12:18:43.802630Z"
    }
   },
   "outputs": [],
   "source": [
    "unlabeled_embeddings = model.encode(np.array(unlabeled_data))"
   ]
  },
  {
   "cell_type": "code",
   "execution_count": 56,
   "metadata": {
    "ExecuteTime": {
     "end_time": "2020-08-12T12:34:41.412674Z",
     "start_time": "2020-08-12T12:34:41.409092Z"
    }
   },
   "outputs": [
    {
     "data": {
      "text/plain": [
       "77500"
      ]
     },
     "execution_count": 56,
     "metadata": {},
     "output_type": "execute_result"
    }
   ],
   "source": [
    "len(unlabeled_embeddings)"
   ]
  },
  {
   "cell_type": "markdown",
   "metadata": {},
   "source": [
    "Sanity Check:"
   ]
  },
  {
   "cell_type": "code",
   "execution_count": 57,
   "metadata": {
    "ExecuteTime": {
     "end_time": "2020-08-12T12:34:41.426410Z",
     "start_time": "2020-08-12T12:34:41.413882Z"
    }
   },
   "outputs": [
    {
     "data": {
      "text/plain": [
       "array([-0.6918019 ,  1.5370989 , -0.9713264 , ...,  0.8122888 ,\n",
       "        0.05864151, -0.08270334], dtype=float32)"
      ]
     },
     "execution_count": 57,
     "metadata": {},
     "output_type": "execute_result"
    }
   ],
   "source": [
    "unlabeled_embeddings[0]"
   ]
  },
  {
   "cell_type": "markdown",
   "metadata": {},
   "source": [
    "# Getting nearest Embeddings"
   ]
  },
  {
   "cell_type": "code",
   "execution_count": 58,
   "metadata": {
    "ExecuteTime": {
     "end_time": "2020-08-12T12:34:41.439215Z",
     "start_time": "2020-08-12T12:34:41.427429Z"
    },
    "scrolled": true
   },
   "outputs": [
    {
     "name": "stdout",
     "output_type": "stream",
     "text": [
      "[ 0.08644086  0.37375736 -0.0369549  ...  0.11566956 -0.2464187\n",
      " -0.17583564]\n"
     ]
    }
   ],
   "source": [
    "def get_centroid(embeddings):\n",
    "    embedding_sum = np.sum(embeddings, axis=0)\n",
    "    return np.divide(embedding_sum, len(embeddings[0]))\n",
    "\n",
    "positive_centroid = get_centroid(positive_embeddings)\n",
    "print(positive_centroid)"
   ]
  },
  {
   "cell_type": "code",
   "execution_count": 59,
   "metadata": {
    "ExecuteTime": {
     "end_time": "2020-08-12T12:34:42.266082Z",
     "start_time": "2020-08-12T12:34:41.440842Z"
    }
   },
   "outputs": [
    {
     "data": {
      "text/markdown": [
       "Remember: cosine similarity is 1 if the vectors have the same angle (same similarity) and 0 if the vectors are unsimilar\n",
       " "
      ],
      "text/plain": [
       "<IPython.core.display.Markdown object>"
      ]
     },
     "metadata": {},
     "output_type": "display_data"
    },
    {
     "data": {
      "text/markdown": [
       "**[Labeled Data]** The vector that is **least similar** to the other vectors has a similarity score of 0.334746"
      ],
      "text/plain": [
       "<IPython.core.display.Markdown object>"
      ]
     },
     "metadata": {},
     "output_type": "display_data"
    },
    {
     "data": {
      "text/markdown": [
       "**[Labeled Data]** The article title of it is: Saputo misses expectations as second-quarter profit falls despite higher revenues"
      ],
      "text/plain": [
       "<IPython.core.display.Markdown object>"
      ]
     },
     "metadata": {},
     "output_type": "display_data"
    },
    {
     "data": {
      "text/markdown": [
       "**[Labeled Data]** Boxplot: Distances of the positive set to the positive centroid "
      ],
      "text/plain": [
       "<IPython.core.display.Markdown object>"
      ]
     },
     "metadata": {},
     "output_type": "display_data"
    },
    {
     "data": {
      "image/png": "[encoded data removed]",
      "text/plain": [
       "<Figure size 432x288 with 1 Axes>"
      ]
     },
     "metadata": {
      "needs_background": "light"
     },
     "output_type": "display_data"
    },
    {
     "data": {
      "text/markdown": [
       "<br>**[Unlabeled Data]** The vector that is **most similar** to the other vectors has a similarity score of 0.8104349"
      ],
      "text/plain": [
       "<IPython.core.display.Markdown object>"
      ]
     },
     "metadata": {},
     "output_type": "display_data"
    },
    {
     "data": {
      "text/markdown": [
       "**[Unlabeled Data]** The article title of it is: Federal regulators approve UQM merger with Danfoss"
      ],
      "text/plain": [
       "<IPython.core.display.Markdown object>"
      ]
     },
     "metadata": {},
     "output_type": "display_data"
    },
    {
     "data": {
      "text/markdown": [
       "**[Unlabeled Data]** The vector that is **least similar** to the other vectors has a similarity score of -0.045669075"
      ],
      "text/plain": [
       "<IPython.core.display.Markdown object>"
      ]
     },
     "metadata": {},
     "output_type": "display_data"
    },
    {
     "data": {
      "text/markdown": [
       "**[Unlabeled Data]** The article title of it is: Sudan shuts schools as pupils’ killing sparks outrage"
      ],
      "text/plain": [
       "<IPython.core.display.Markdown object>"
      ]
     },
     "metadata": {},
     "output_type": "display_data"
    },
    {
     "data": {
      "text/markdown": [
       "**[Unlabeled Data]** Boxplot: Distances of the unlabeled set to the positive centroid "
      ],
      "text/plain": [
       "<IPython.core.display.Markdown object>"
      ]
     },
     "metadata": {},
     "output_type": "display_data"
    },
    {
     "data": {
      "image/png": "[encoded data removed]",
      "text/plain": [
       "<Figure size 432x288 with 1 Axes>"
      ]
     },
     "metadata": {
      "needs_background": "light"
     },
     "output_type": "display_data"
    }
   ],
   "source": [
    "def get_distances(embeddings, centroid, cosine=True):\n",
    "    def cosine_similarity(a,b):\n",
    "        return np.dot(a,b)/(np.linalg.norm(a) * np.linalg.norm(b))\n",
    "    \n",
    "    if cosine:\n",
    "        return [cosine_similarity(embedding, centroid) for embedding in embeddings]\n",
    "    else:\n",
    "        return - [np.linalg.norm(centroid-embedding, 2) for embedding in embeddings]\n",
    "    \n",
    "unlabeled_distances = get_distances(unlabeled_embeddings, positive_centroid)\n",
    "positive_distances = get_distances(positive_embeddings, positive_centroid)\n",
    "\n",
    "printmd(\"Remember: cosine similarity is 1 if the vectors have the same angle (same similarity) and 0 if the vectors are unsimilar\\n\")\n",
    "\n",
    "printmd(\"**[Labeled Data]** The vector that is **least similar** to the other vectors has a similarity score of\", np.min(positive_distances))\n",
    "printmd(\"**[Labeled Data]** The article title of it is:\", positive_data_titles[np.argmin(positive_distances)])\n",
    "printmd(\"**[Labeled Data]** Boxplot: Distances of the positive set to the positive centroid\")\n",
    "fig, ax = plt.subplots()\n",
    "ax.boxplot(positive_distances, 0, 'rs', 0)\n",
    "plt.show()\n",
    "\n",
    "printmd(\"<br>**[Unlabeled Data]** The vector that is **most similar** to the other vectors has a similarity score of\", np.max(unlabeled_distances))\n",
    "printmd(\"**[Unlabeled Data]** The article title of it is:\", unlabeled_data_titles[np.argmax(unlabeled_distances)])\n",
    "\n",
    "printmd(\"**[Unlabeled Data]** The vector that is **least similar** to the other vectors has a similarity score of\", np.min(unlabeled_distances))\n",
    "printmd(\"**[Unlabeled Data]** The article title of it is:\", unlabeled_data_titles[np.argmin(unlabeled_distances)])\n",
    "\n",
    "printmd(\"**[Unlabeled Data]** Boxplot: Distances of the unlabeled set to the positive centroid\")\n",
    "fig, ax = plt.subplots()\n",
    "ax.boxplot(unlabeled_distances, 0, 'gD', 0)\n",
    "plt.show()"
   ]
  },
  {
   "cell_type": "code",
   "execution_count": 60,
   "metadata": {
    "ExecuteTime": {
     "end_time": "2020-08-12T12:34:42.282830Z",
     "start_time": "2020-08-12T12:34:42.268102Z"
    }
   },
   "outputs": [
    {
     "name": "stdout",
     "output_type": "stream",
     "text": [
      "Nearest vector of the unlabeled data to the centroid (idx): [19644 70607]\n",
      "The article title of it is: Federal regulators approve UQM merger with Danfoss\n"
     ]
    }
   ],
   "source": [
    "def get_k_nearest_indices(distances, k, inverse=False):\n",
    "    distances = np.array(distances)\n",
    "    if not inverse:\n",
    "        return np.argsort(distances)[::-1][:k]\n",
    "    else:\n",
    "        return np.argsort(distances)[:k]\n",
    "\n",
    "def get_nearest_indices_threshold(distances, threshold, inverse=False):\n",
    "    if not inverse:\n",
    "        distances = np.array(distances)\n",
    "        threshold_count = len(list(filter(lambda x: x > threshold, distances)))\n",
    "        return np.argsort(distances)[::-1][:threshold_count]\n",
    "    else:\n",
    "        distances = np.array(distances)\n",
    "        threshold_count = len(list(filter(lambda x: x < threshold, distances)))\n",
    "        return np.argsort(distances)[:threshold_count]\n",
    "    \n",
    "    \n",
    "index_of_nearest = get_k_nearest_indices(unlabeled_distances, 2)\n",
    "print(\"Nearest vector of the unlabeled data to the centroid (idx):\", index_of_nearest)\n",
    "print(\"The article title of it is:\", unlabeled_data_titles[index_of_nearest[0]])"
   ]
  },
  {
   "cell_type": "code",
   "execution_count": 61,
   "metadata": {
    "ExecuteTime": {
     "end_time": "2020-08-12T12:34:42.497678Z",
     "start_time": "2020-08-12T12:34:42.284098Z"
    }
   },
   "outputs": [
    {
     "name": "stdout",
     "output_type": "stream",
     "text": [
      "71163\n"
     ]
    }
   ],
   "source": [
    "#index_of_nearest_dataset = get_k_nearest_indices(unlabeled_distances, 1000)\n",
    "upper_quantile = np.quantile(positive_distances, 0.95)\n",
    "index_of_nearest_dataset = get_nearest_indices_threshold(unlabeled_distances, upper_quantile)\n",
    "\n",
    "#index_of_distant_dataset = get_k_nearest_indices(unlabeled_distances, 5000, True)\n",
    "lower_quantile = np.quantile(positive_distances, 0.10)\n",
    "index_of_distant_dataset = get_nearest_indices_threshold(unlabeled_distances, lower_quantile, True)\n",
    "print(len(index_of_distant_dataset))"
   ]
  },
  {
   "cell_type": "code",
   "execution_count": 62,
   "metadata": {
    "ExecuteTime": {
     "end_time": "2020-08-12T12:34:57.666647Z",
     "start_time": "2020-08-12T12:34:42.499025Z"
    }
   },
   "outputs": [],
   "source": [
    "new_positive_dataset = [unlabeled_data[index] for index in index_of_nearest_dataset]\n",
    "new_positive_dataset_titles = [unlabeled_data_titles[index] for index in index_of_nearest_dataset]\n",
    "new_positive_filenames = [unlabeled_filenames[index] for index in index_of_nearest_dataset][:200]\n",
    "new_negative_dataset = [unlabeled_data[index] for index in index_of_distant_dataset]\n",
    "new_negative_dataset = np.random.choice(np.array(new_negative_dataset), 1000)"
   ]
  },
  {
   "cell_type": "code",
   "execution_count": 63,
   "metadata": {
    "ExecuteTime": {
     "end_time": "2020-08-12T12:34:57.672942Z",
     "start_time": "2020-08-12T12:34:57.668348Z"
    },
    "scrolled": true
   },
   "outputs": [
    {
     "data": {
      "text/markdown": [
       "The new positive dataset consists of 50 documents "
      ],
      "text/plain": [
       "<IPython.core.display.Markdown object>"
      ]
     },
     "metadata": {},
     "output_type": "display_data"
    },
    {
     "data": {
      "text/markdown": [
       "The new negative dataset consists of 1000 documents "
      ],
      "text/plain": [
       "<IPython.core.display.Markdown object>"
      ]
     },
     "metadata": {},
     "output_type": "display_data"
    }
   ],
   "source": [
    "printmd(\"The new positive dataset consists of \" + str(len(new_positive_dataset)) + \" documents\")\n",
    "printmd(\"The new negative dataset consists of \" + str(len(new_negative_dataset)) + \" documents\")"
   ]
  },
  {
   "cell_type": "code",
   "execution_count": 64,
   "metadata": {
    "ExecuteTime": {
     "end_time": "2020-08-12T12:34:57.687451Z",
     "start_time": "2020-08-12T12:34:57.673884Z"
    },
    "scrolled": true
   },
   "outputs": [
    {
     "data": {
      "text/plain": [
       "'xxtitle Funso Ojo and how Aberdeen beat Hibs in epic transfer tussle for midfielder xxbodytext Both clubs had a £125,000 fee accepted by the English side but the Dons managed to convince the 27-year-old to move to Pittodrie.\\r\\n\\r\\nAberdeen stepped in with an improved contract and the lure of European football to beat Hibs to the signing of Funso Ojo last night.\\r\\n\\r\\nBoth clubs had agreed a £125,000 fee with Scunthorpe United and were given permission to hold talks with the Belgian midfielder, above.\\r\\n\\r\\nThe 27-year-old met with Hibs and Paul Heckingbottom on Wednesday but Derek McInnes beat them to the punch yesterday with a convincing sales pitch, including the lure of Europa League football and an enhanced financial package, to get him to Pittodrie.\\r\\n\\r\\nOjo’s deal is set to be confirmed within the next 24 hours.\\r\\n\\r\\nMcInnes turned his attentions to him after he hit a brick wall trying to bring Dylan McGeouch in from Sunderland for the Europa League campaign.\\r\\n\\r\\nThe Reds are currently 2-1 up against RoPS and are short of midfield options, with Craig Bryson and Stephen Gleeson both out injured.\\r\\n\\r\\nMcInnes is looking to get the move done so if Aberdeen progress in Europe they can get Ojo, who has had spells at PSV Eindhoven, Beerschot, Royal Antwerp, FC Dordrecht and Willem II, registered.\\r\\n\\r\\nBut it is a blow to Hibs who thought they had a deal with the midfielder earlier in the summer.\\r\\n\\r\\nHeckingbottom and Hibs agreed a fee but Aberdeen had the financial muscle to get the contract talks over the line.\\r\\n\\r\\nThe Easter Road boss was philosophical about losing out on the player and insists he only wants players who are committed to Hibs.\\r\\n\\r\\nWhile refusing to publicly give up on Ojo, Hibs have privately moved on to other options and Heckingbottom has implied the player will be making a financial decision should he join the Pittodrie club.\\r\\n\\r\\nHe said: “I’m not particularly bothered which way he goes. We’ve done our bit and if he comes here fantastic.\\r\\n\\r\\n“If he doesn’t then he’s gone there for different reasons to what we value as important.\\r\\n\\r\\n“We can be comfortable in how we acted and what we do in terms of the contract we offered. It’s a fantastic contract.\\r\\n\\r\\n“But we think it’s bigger and more important than that – it’s the football, the opportunity we give them, how we want to play. You’ve got to come here for the right reasons. If they don’t then that’s fine, they value something else.\\r\\n\\r\\n“The only players I’m bothered about are the ones in our dressing room and we have to be sure that we get good people in our dressing room.”\\r\\n\\r\\nBut Hibs’ failure to capture Ojo will represent a particularly galling blow, given they thought it was a done deal in May.\\r\\n\\r\\nOjo visited their East Lothian training base and Easter Road and was ready to commit his future – with the Hibees hierarchy under the impression he was available on a free transfer following Scunthorpe’s relegation to League Two.\\r\\n\\r\\nThat transfer became embroiled in red tape when Scunny disputed that and demanded a fee, prompting Ojo’s representatives to threaten to take the issue to a FIFA tribunal.\\r\\n\\r\\nBut Scunthorpe came back to the negotiation table this week and accepted offers from both Hibs and Aberdeen.\\r\\n\\r\\nHeckingbottom said: “Did we think we had him? We did in May. Circumstances have changed, haven’t they?\\r\\n\\r\\n“We put the effort and work in at the beginning and if we had got him that would have been fantastic. But there’s clearly another team in the mix now.”'"
      ]
     },
     "execution_count": 64,
     "metadata": {},
     "output_type": "execute_result"
    }
   ],
   "source": [
    "new_positive_dataset[-1]"
   ]
  },
  {
   "cell_type": "code",
   "execution_count": 20,
   "metadata": {
    "deletable": false,
    "editable": false,
    "run_control": {
     "frozen": true
    }
   },
   "outputs": [
    {
     "data": {
      "text/plain": [
       "False"
      ]
     },
     "execution_count": 20,
     "metadata": {},
     "output_type": "execute_result"
    }
   ],
   "source": [
    "new_positive_dataset_titles[0] in test_data_titles"
   ]
  },
  {
   "cell_type": "code",
   "execution_count": 21,
   "metadata": {
    "deletable": false,
    "editable": false,
    "run_control": {
     "frozen": true
    }
   },
   "outputs": [
    {
     "data": {
      "text/plain": [
       "'randomsig_wt/c7ce30be-b4dc-480a-8999-5097ccf3d2e8.txt'"
      ]
     },
     "execution_count": 21,
     "metadata": {},
     "output_type": "execute_result"
    }
   ],
   "source": [
    "file = open(path + \"augmented_top_200.txt\", \"w\")\n",
    "for filename in new_positive_filenames:\n",
    "    file.write(filename.replace(\"randomsig_wt/\", \"\").replace(\".txt\", \"\"))\n",
    "    file.write(\"\\n\")\n",
    "\n",
    "file.close()\n",
    "\n",
    "new_positive_filenames[155]"
   ]
  },
  {
   "cell_type": "markdown",
   "metadata": {},
   "source": [
    "# Saving the new datasets"
   ]
  },
  {
   "cell_type": "code",
   "execution_count": 39,
   "metadata": {
    "ExecuteTime": {
     "end_time": "2020-08-10T07:49:25.579812Z",
     "start_time": "2020-08-10T07:49:23.841620Z"
    },
    "code_folding": []
   },
   "outputs": [],
   "source": [
    "for index, text in enumerate(new_positive_dataset):\n",
    "    file = open(path + \"data/semi_supervised_pos/\" + str(index) + \".\" + \"1.txt\", \"w\")\n",
    "    file.write(text)\n",
    "    file.close()\n",
    "    \n",
    "#for index, text in enumerate(new_negative_dataset):\n",
    "#    file = open(path + \"data/semi_supervised_neg/\" + str(index) + \".\" + \"0.txt\", \"w\")\n",
    "#    file.write(text)\n",
    "#    file.close()"
   ]
  },
  {
   "cell_type": "code",
   "execution_count": null,
   "metadata": {},
   "outputs": [],
   "source": []
  }
 ],
 "metadata": {
  "kernelspec": {
   "display_name": "Python [conda env:clustering]",
   "language": "python",
   "name": "conda-env-clustering-py"
  },
  "language_info": {
   "codemirror_mode": {
    "name": "ipython",
    "version": 3
   },
   "file_extension": ".py",
   "mimetype": "text/x-python",
   "name": "python",
   "nbconvert_exporter": "python",
   "pygments_lexer": "ipython3",
   "version": "3.8.2"
  },
  "varInspector": {
   "cols": {
    "lenName": 16,
    "lenType": 16,
    "lenVar": 40
   },
   "kernels_config": {
    "python": {
     "delete_cmd_postfix": "",
     "delete_cmd_prefix": "del ",
     "library": "var_list.py",
     "varRefreshCmd": "print(var_dic_list())"
    },
    "r": {
     "delete_cmd_postfix": ") ",
     "delete_cmd_prefix": "rm(",
     "library": "var_list.r",
     "varRefreshCmd": "cat(var_dic_list()) "
    }
   },
   "position": {
    "height": "453.183px",
    "left": "1051.74px",
    "right": "20px",
    "top": "120px",
    "width": "350.498px"
   },
   "types_to_exclude": [
    "module",
    "function",
    "builtin_function_or_method",
    "instance",
    "_Feature"
   ],
   "window_display": false
  }
 },
 "nbformat": 4,
 "nbformat_minor": 4
}
